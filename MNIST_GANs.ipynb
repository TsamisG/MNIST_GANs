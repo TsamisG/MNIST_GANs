{
 "cells": [
  {
   "cell_type": "code",
   "execution_count": 1,
   "metadata": {
    "id": "22UXtlWESaVn"
   },
   "outputs": [],
   "source": [
    "import torch\n",
    "import torch.nn as nn\n",
    "import torchvision\n",
    "import torchvision.transforms as transforms\n",
    "from torchvision.utils import save_image\n",
    "import numpy as np\n",
    "import matplotlib.pyplot as plt\n",
    "import os"
   ]
  },
  {
   "cell_type": "code",
   "execution_count": 2,
   "metadata": {
    "id": "SCWuIkMpSnhA"
   },
   "outputs": [],
   "source": [
    "transform = transforms.Compose([\n",
    "    transforms.ToTensor(),\n",
    "    transforms.Normalize(mean=(0.5,),\n",
    "                         std=(0.5,))])"
   ]
  },
  {
   "cell_type": "code",
   "execution_count": 3,
   "metadata": {
    "colab": {
     "base_uri": "https://localhost:8080/"
    },
    "id": "uJUkdBpxS1dh",
    "outputId": "e59ae857-2bbb-44d4-8621-f54e6bea83a1"
   },
   "outputs": [
    {
     "name": "stdout",
     "output_type": "stream",
     "text": [
      "Downloading http://yann.lecun.com/exdb/mnist/train-images-idx3-ubyte.gz\n",
      "Downloading http://yann.lecun.com/exdb/mnist/train-images-idx3-ubyte.gz to ./MNIST/raw/train-images-idx3-ubyte.gz\n"
     ]
    },
    {
     "name": "stderr",
     "output_type": "stream",
     "text": [
      "100%|██████████| 9912422/9912422 [00:00<00:00, 135224914.28it/s]\n"
     ]
    },
    {
     "name": "stdout",
     "output_type": "stream",
     "text": [
      "Extracting ./MNIST/raw/train-images-idx3-ubyte.gz to ./MNIST/raw\n",
      "\n",
      "Downloading http://yann.lecun.com/exdb/mnist/train-labels-idx1-ubyte.gz\n",
      "Downloading http://yann.lecun.com/exdb/mnist/train-labels-idx1-ubyte.gz to ./MNIST/raw/train-labels-idx1-ubyte.gz\n"
     ]
    },
    {
     "name": "stderr",
     "output_type": "stream",
     "text": [
      "100%|██████████| 28881/28881 [00:00<00:00, 44948309.40it/s]\n"
     ]
    },
    {
     "name": "stdout",
     "output_type": "stream",
     "text": [
      "Extracting ./MNIST/raw/train-labels-idx1-ubyte.gz to ./MNIST/raw\n",
      "\n",
      "Downloading http://yann.lecun.com/exdb/mnist/t10k-images-idx3-ubyte.gz\n",
      "Downloading http://yann.lecun.com/exdb/mnist/t10k-images-idx3-ubyte.gz to ./MNIST/raw/t10k-images-idx3-ubyte.gz\n"
     ]
    },
    {
     "name": "stderr",
     "output_type": "stream",
     "text": [
      "100%|██████████| 1648877/1648877 [00:00<00:00, 41788620.92it/s]\n"
     ]
    },
    {
     "name": "stdout",
     "output_type": "stream",
     "text": [
      "Extracting ./MNIST/raw/t10k-images-idx3-ubyte.gz to ./MNIST/raw\n",
      "\n",
      "Downloading http://yann.lecun.com/exdb/mnist/t10k-labels-idx1-ubyte.gz\n",
      "Downloading http://yann.lecun.com/exdb/mnist/t10k-labels-idx1-ubyte.gz to ./MNIST/raw/t10k-labels-idx1-ubyte.gz\n"
     ]
    },
    {
     "name": "stderr",
     "output_type": "stream",
     "text": [
      "100%|██████████| 4542/4542 [00:00<00:00, 4108373.68it/s]\n"
     ]
    },
    {
     "name": "stdout",
     "output_type": "stream",
     "text": [
      "Extracting ./MNIST/raw/t10k-labels-idx1-ubyte.gz to ./MNIST/raw\n",
      "\n"
     ]
    }
   ],
   "source": [
    "train_dataset = torchvision.datasets.MNIST(\n",
    "    root='.',\n",
    "    train=True,\n",
    "    transform=transform,\n",
    "    download=True)"
   ]
  },
  {
   "cell_type": "code",
   "execution_count": 4,
   "metadata": {
    "colab": {
     "base_uri": "https://localhost:8080/"
    },
    "id": "G3CDVtt2TADS",
    "outputId": "6dd2e83b-c187-4a05-97e1-2760ef5dd2b5"
   },
   "outputs": [
    {
     "data": {
      "text/plain": [
       "60000"
      ]
     },
     "execution_count": 4,
     "metadata": {},
     "output_type": "execute_result"
    }
   ],
   "source": [
    "len(train_dataset)"
   ]
  },
  {
   "cell_type": "code",
   "execution_count": 5,
   "metadata": {
    "id": "m5brFdNTTDpp"
   },
   "outputs": [],
   "source": [
    "batch_size = 128\n",
    "data_loader = torch.utils.data.DataLoader(dataset=train_dataset,\n",
    "                                          batch_size=batch_size,\n",
    "                                          shuffle=True)"
   ]
  },
  {
   "cell_type": "code",
   "execution_count": 6,
   "metadata": {
    "id": "Tq7dUgc-TLxX"
   },
   "outputs": [],
   "source": [
    "D = nn.Sequential(\n",
    "    nn.Linear(784, 512),\n",
    "    nn.LeakyReLU(0.2),\n",
    "    nn.Linear(512, 256),\n",
    "    nn.LeakyReLU(0.2),\n",
    "    nn.Linear(256, 1),\n",
    ")"
   ]
  },
  {
   "cell_type": "code",
   "execution_count": 7,
   "metadata": {
    "id": "xb_m8QNRTWPJ"
   },
   "outputs": [],
   "source": [
    "latent_dim = 100\n",
    "G = nn.Sequential(\n",
    "    nn.Linear(latent_dim, 256),\n",
    "    nn.LeakyReLU(0.2),\n",
    "    nn.BatchNorm1d(256, momentum=0.7),\n",
    "    nn.Linear(256, 512),\n",
    "    nn.LeakyReLU(0.2),\n",
    "    nn.BatchNorm1d(512, momentum=0.7),\n",
    "    nn.Linear(512, 1024),\n",
    "    nn.LeakyReLU(0.2),\n",
    "    nn.BatchNorm1d(1024, momentum=0.7),\n",
    "    nn.Linear(1024, 784),\n",
    "    nn.Tanh()\n",
    ")"
   ]
  },
  {
   "cell_type": "code",
   "execution_count": 8,
   "metadata": {
    "id": "lojJeM-5vvmF"
   },
   "outputs": [],
   "source": [
    "device = torch.device('cuda:0' if torch.cuda.is_available() else 'cpu')\n",
    "D = D.to(device)\n",
    "G = G.to(device)"
   ]
  },
  {
   "cell_type": "code",
   "execution_count": 9,
   "metadata": {
    "id": "4cQtkmiZTz_V"
   },
   "outputs": [],
   "source": [
    "criterion = nn.BCEWithLogitsLoss()\n",
    "d_optimizer = torch.optim.Adam(D.parameters(), lr=0.001, betas=(0.5, 0.999))\n",
    "g_optimizer = torch.optim.Adam(G.parameters(), lr=0.001, betas=(0.5, 0.999))"
   ]
  },
  {
   "cell_type": "code",
   "execution_count": 10,
   "metadata": {
    "id": "We6AQu5OUEpo"
   },
   "outputs": [],
   "source": [
    "def scale_image(img):\n",
    "  out = (img + 1) / 2\n",
    "  return out"
   ]
  },
  {
   "cell_type": "code",
   "execution_count": 11,
   "metadata": {
    "id": "_hzHPP_IUIBW"
   },
   "outputs": [],
   "source": [
    "if not os.path.exists('gan_images'):\n",
    "  os.makedirs('gan_images')"
   ]
  },
  {
   "cell_type": "code",
   "execution_count": 12,
   "metadata": {
    "colab": {
     "base_uri": "https://localhost:8080/"
    },
    "id": "skOGzvBzaJQ8",
    "outputId": "3c4bac27-c631-465f-a87a-f8797fa4b5b7"
   },
   "outputs": [
    {
     "name": "stdout",
     "output_type": "stream",
     "text": [
      "Epoch: [ 1 / 200] | D. Loss: 0.6804 | G. Loss: 0.6682\n",
      "Epoch: [ 2 / 200] | D. Loss: 0.6629 | G. Loss: 0.7932\n",
      "Epoch: [ 3 / 200] | D. Loss: 0.6634 | G. Loss: 0.6453\n",
      "Epoch: [ 4 / 200] | D. Loss: 0.6847 | G. Loss: 0.7164\n",
      "Epoch: [ 5 / 200] | D. Loss: 0.6781 | G. Loss: 0.6886\n",
      "Epoch: [ 6 / 200] | D. Loss: 0.6944 | G. Loss: 0.7191\n",
      "Epoch: [ 7 / 200] | D. Loss: 0.6612 | G. Loss: 0.8047\n",
      "Epoch: [ 8 / 200] | D. Loss: 0.6748 | G. Loss: 0.7922\n",
      "Epoch: [ 9 / 200] | D. Loss: 0.6612 | G. Loss: 0.7400\n",
      "Epoch: [ 10 / 200] | D. Loss: 0.6826 | G. Loss: 0.7174\n",
      "Epoch: [ 11 / 200] | D. Loss: 0.6790 | G. Loss: 0.6824\n",
      "Epoch: [ 12 / 200] | D. Loss: 0.7040 | G. Loss: 0.7220\n",
      "Epoch: [ 13 / 200] | D. Loss: 0.6859 | G. Loss: 0.6776\n",
      "Epoch: [ 14 / 200] | D. Loss: 0.6957 | G. Loss: 0.7490\n",
      "Epoch: [ 15 / 200] | D. Loss: 0.6824 | G. Loss: 0.6833\n",
      "Epoch: [ 16 / 200] | D. Loss: 0.6957 | G. Loss: 0.7104\n",
      "Epoch: [ 17 / 200] | D. Loss: 0.6845 | G. Loss: 0.7687\n",
      "Epoch: [ 18 / 200] | D. Loss: 0.6783 | G. Loss: 0.7688\n",
      "Epoch: [ 19 / 200] | D. Loss: 0.6871 | G. Loss: 0.7072\n",
      "Epoch: [ 20 / 200] | D. Loss: 0.6982 | G. Loss: 0.7123\n",
      "Epoch: [ 21 / 200] | D. Loss: 0.6956 | G. Loss: 0.6750\n",
      "Epoch: [ 22 / 200] | D. Loss: 0.7022 | G. Loss: 0.6737\n",
      "Epoch: [ 23 / 200] | D. Loss: 0.6920 | G. Loss: 0.6732\n",
      "Epoch: [ 24 / 200] | D. Loss: 0.6839 | G. Loss: 0.7103\n",
      "Epoch: [ 25 / 200] | D. Loss: 0.6892 | G. Loss: 0.7083\n",
      "Epoch: [ 26 / 200] | D. Loss: 0.6945 | G. Loss: 0.7381\n",
      "Epoch: [ 27 / 200] | D. Loss: 0.6934 | G. Loss: 0.6930\n",
      "Epoch: [ 28 / 200] | D. Loss: 0.6978 | G. Loss: 0.7361\n",
      "Epoch: [ 29 / 200] | D. Loss: 0.6819 | G. Loss: 0.7282\n",
      "Epoch: [ 30 / 200] | D. Loss: 0.6959 | G. Loss: 0.7260\n",
      "Epoch: [ 31 / 200] | D. Loss: 0.6933 | G. Loss: 0.6978\n",
      "Epoch: [ 32 / 200] | D. Loss: 0.6845 | G. Loss: 0.7657\n",
      "Epoch: [ 33 / 200] | D. Loss: 0.6844 | G. Loss: 0.6764\n",
      "Epoch: [ 34 / 200] | D. Loss: 0.6943 | G. Loss: 0.6895\n",
      "Epoch: [ 35 / 200] | D. Loss: 0.7128 | G. Loss: 0.7265\n",
      "Epoch: [ 36 / 200] | D. Loss: 0.6928 | G. Loss: 0.7265\n",
      "Epoch: [ 37 / 200] | D. Loss: 0.6963 | G. Loss: 0.7134\n",
      "Epoch: [ 38 / 200] | D. Loss: 0.7001 | G. Loss: 0.6678\n",
      "Epoch: [ 39 / 200] | D. Loss: 0.6837 | G. Loss: 0.7408\n",
      "Epoch: [ 40 / 200] | D. Loss: 0.6926 | G. Loss: 0.7491\n",
      "Epoch: [ 41 / 200] | D. Loss: 0.6974 | G. Loss: 0.7141\n",
      "Epoch: [ 42 / 200] | D. Loss: 0.6901 | G. Loss: 0.8498\n",
      "Epoch: [ 43 / 200] | D. Loss: 0.6934 | G. Loss: 0.7250\n",
      "Epoch: [ 44 / 200] | D. Loss: 0.6839 | G. Loss: 0.6812\n",
      "Epoch: [ 45 / 200] | D. Loss: 0.6938 | G. Loss: 0.7260\n",
      "Epoch: [ 46 / 200] | D. Loss: 0.6878 | G. Loss: 0.7385\n",
      "Epoch: [ 47 / 200] | D. Loss: 0.6851 | G. Loss: 0.6927\n",
      "Epoch: [ 48 / 200] | D. Loss: 0.6969 | G. Loss: 0.6745\n",
      "Epoch: [ 49 / 200] | D. Loss: 0.6913 | G. Loss: 0.7022\n",
      "Epoch: [ 50 / 200] | D. Loss: 0.6951 | G. Loss: 0.6794\n",
      "Epoch: [ 51 / 200] | D. Loss: 0.6887 | G. Loss: 0.7470\n",
      "Epoch: [ 52 / 200] | D. Loss: 0.6915 | G. Loss: 0.7495\n",
      "Epoch: [ 53 / 200] | D. Loss: 0.6939 | G. Loss: 0.7284\n",
      "Epoch: [ 54 / 200] | D. Loss: 0.6935 | G. Loss: 0.7136\n",
      "Epoch: [ 55 / 200] | D. Loss: 0.6837 | G. Loss: 0.7153\n",
      "Epoch: [ 56 / 200] | D. Loss: 0.6878 | G. Loss: 0.7086\n",
      "Epoch: [ 57 / 200] | D. Loss: 0.6876 | G. Loss: 0.7259\n",
      "Epoch: [ 58 / 200] | D. Loss: 0.7047 | G. Loss: 0.7914\n",
      "Epoch: [ 59 / 200] | D. Loss: 0.6800 | G. Loss: 0.7487\n",
      "Epoch: [ 60 / 200] | D. Loss: 0.6978 | G. Loss: 0.7004\n",
      "Epoch: [ 61 / 200] | D. Loss: 0.6888 | G. Loss: 0.7052\n",
      "Epoch: [ 62 / 200] | D. Loss: 0.6865 | G. Loss: 0.7061\n",
      "Epoch: [ 63 / 200] | D. Loss: 0.6849 | G. Loss: 0.7211\n",
      "Epoch: [ 64 / 200] | D. Loss: 0.6870 | G. Loss: 0.7423\n",
      "Epoch: [ 65 / 200] | D. Loss: 0.6935 | G. Loss: 0.7426\n",
      "Epoch: [ 66 / 200] | D. Loss: 0.6903 | G. Loss: 0.6957\n",
      "Epoch: [ 67 / 200] | D. Loss: 0.7019 | G. Loss: 0.6394\n",
      "Epoch: [ 68 / 200] | D. Loss: 0.7298 | G. Loss: 0.6936\n",
      "Epoch: [ 69 / 200] | D. Loss: 0.6793 | G. Loss: 0.7378\n",
      "Epoch: [ 70 / 200] | D. Loss: 0.6795 | G. Loss: 0.6982\n",
      "Epoch: [ 71 / 200] | D. Loss: 0.6842 | G. Loss: 0.7247\n",
      "Epoch: [ 72 / 200] | D. Loss: 0.6812 | G. Loss: 0.7039\n",
      "Epoch: [ 73 / 200] | D. Loss: 0.7009 | G. Loss: 0.9758\n",
      "Epoch: [ 74 / 200] | D. Loss: 0.6898 | G. Loss: 0.7306\n",
      "Epoch: [ 75 / 200] | D. Loss: 0.6833 | G. Loss: 0.7971\n",
      "Epoch: [ 76 / 200] | D. Loss: 0.6902 | G. Loss: 0.7754\n",
      "Epoch: [ 77 / 200] | D. Loss: 0.6595 | G. Loss: 0.7817\n",
      "Epoch: [ 78 / 200] | D. Loss: 0.6828 | G. Loss: 0.8049\n",
      "Epoch: [ 79 / 200] | D. Loss: 0.6913 | G. Loss: 0.6958\n",
      "Epoch: [ 80 / 200] | D. Loss: 0.6836 | G. Loss: 0.8059\n",
      "Epoch: [ 81 / 200] | D. Loss: 0.6629 | G. Loss: 0.6228\n",
      "Epoch: [ 82 / 200] | D. Loss: 0.6864 | G. Loss: 0.6197\n",
      "Epoch: [ 83 / 200] | D. Loss: 0.6739 | G. Loss: 0.7426\n",
      "Epoch: [ 84 / 200] | D. Loss: 0.6810 | G. Loss: 0.8678\n",
      "Epoch: [ 85 / 200] | D. Loss: 0.6817 | G. Loss: 0.7223\n",
      "Epoch: [ 86 / 200] | D. Loss: 0.6876 | G. Loss: 0.9269\n",
      "Epoch: [ 87 / 200] | D. Loss: 0.6826 | G. Loss: 0.6039\n",
      "Epoch: [ 88 / 200] | D. Loss: 0.6604 | G. Loss: 0.7651\n",
      "Epoch: [ 89 / 200] | D. Loss: 0.6522 | G. Loss: 0.8097\n",
      "Epoch: [ 90 / 200] | D. Loss: 0.6930 | G. Loss: 0.8475\n",
      "Epoch: [ 91 / 200] | D. Loss: 0.6608 | G. Loss: 0.8113\n",
      "Epoch: [ 92 / 200] | D. Loss: 0.6779 | G. Loss: 0.7347\n",
      "Epoch: [ 93 / 200] | D. Loss: 0.6807 | G. Loss: 0.6425\n",
      "Epoch: [ 94 / 200] | D. Loss: 0.6384 | G. Loss: 0.7553\n",
      "Epoch: [ 95 / 200] | D. Loss: 0.6685 | G. Loss: 0.6979\n",
      "Epoch: [ 96 / 200] | D. Loss: 0.7534 | G. Loss: 0.8207\n",
      "Epoch: [ 97 / 200] | D. Loss: 0.6381 | G. Loss: 0.7903\n",
      "Epoch: [ 98 / 200] | D. Loss: 0.6547 | G. Loss: 0.9790\n",
      "Epoch: [ 99 / 200] | D. Loss: 0.6912 | G. Loss: 0.6885\n",
      "Epoch: [ 100 / 200] | D. Loss: 0.7233 | G. Loss: 0.4580\n",
      "Epoch: [ 101 / 200] | D. Loss: 0.6899 | G. Loss: 0.6415\n",
      "Epoch: [ 102 / 200] | D. Loss: 0.6665 | G. Loss: 0.9668\n",
      "Epoch: [ 103 / 200] | D. Loss: 0.6363 | G. Loss: 0.7677\n",
      "Epoch: [ 104 / 200] | D. Loss: 0.6762 | G. Loss: 1.0795\n",
      "Epoch: [ 105 / 200] | D. Loss: 0.6583 | G. Loss: 0.7818\n",
      "Epoch: [ 106 / 200] | D. Loss: 0.6361 | G. Loss: 0.9070\n",
      "Epoch: [ 107 / 200] | D. Loss: 0.6483 | G. Loss: 0.7913\n",
      "Epoch: [ 108 / 200] | D. Loss: 0.6594 | G. Loss: 0.7657\n",
      "Epoch: [ 109 / 200] | D. Loss: 0.6715 | G. Loss: 0.9215\n",
      "Epoch: [ 110 / 200] | D. Loss: 0.6407 | G. Loss: 0.7659\n",
      "Epoch: [ 111 / 200] | D. Loss: 0.6496 | G. Loss: 0.9075\n",
      "Epoch: [ 112 / 200] | D. Loss: 0.6759 | G. Loss: 0.5365\n",
      "Epoch: [ 113 / 200] | D. Loss: 0.6201 | G. Loss: 0.8082\n",
      "Epoch: [ 114 / 200] | D. Loss: 0.6809 | G. Loss: 0.6946\n",
      "Epoch: [ 115 / 200] | D. Loss: 0.6638 | G. Loss: 0.8839\n",
      "Epoch: [ 116 / 200] | D. Loss: 0.6672 | G. Loss: 1.0173\n",
      "Epoch: [ 117 / 200] | D. Loss: 0.6491 | G. Loss: 0.9272\n",
      "Epoch: [ 118 / 200] | D. Loss: 0.6144 | G. Loss: 0.7933\n",
      "Epoch: [ 119 / 200] | D. Loss: 0.6293 | G. Loss: 0.8394\n",
      "Epoch: [ 120 / 200] | D. Loss: 0.6558 | G. Loss: 1.1753\n",
      "Epoch: [ 121 / 200] | D. Loss: 0.6462 | G. Loss: 0.8896\n",
      "Epoch: [ 122 / 200] | D. Loss: 0.6762 | G. Loss: 1.3025\n",
      "Epoch: [ 123 / 200] | D. Loss: 0.7355 | G. Loss: 0.4587\n",
      "Epoch: [ 124 / 200] | D. Loss: 0.6140 | G. Loss: 0.8469\n",
      "Epoch: [ 125 / 200] | D. Loss: 0.6316 | G. Loss: 0.8352\n",
      "Epoch: [ 126 / 200] | D. Loss: 0.6568 | G. Loss: 0.6575\n",
      "Epoch: [ 127 / 200] | D. Loss: 0.6134 | G. Loss: 0.9294\n",
      "Epoch: [ 128 / 200] | D. Loss: 0.6240 | G. Loss: 0.9469\n",
      "Epoch: [ 129 / 200] | D. Loss: 0.6477 | G. Loss: 1.0289\n",
      "Epoch: [ 130 / 200] | D. Loss: 0.5933 | G. Loss: 0.7725\n",
      "Epoch: [ 131 / 200] | D. Loss: 0.6495 | G. Loss: 0.8133\n",
      "Epoch: [ 132 / 200] | D. Loss: 0.6036 | G. Loss: 0.7593\n",
      "Epoch: [ 133 / 200] | D. Loss: 0.6132 | G. Loss: 1.0237\n",
      "Epoch: [ 134 / 200] | D. Loss: 0.6592 | G. Loss: 1.3681\n",
      "Epoch: [ 135 / 200] | D. Loss: 0.6510 | G. Loss: 0.8093\n",
      "Epoch: [ 136 / 200] | D. Loss: 0.6734 | G. Loss: 1.1194\n",
      "Epoch: [ 137 / 200] | D. Loss: 0.6493 | G. Loss: 0.8999\n",
      "Epoch: [ 138 / 200] | D. Loss: 0.6293 | G. Loss: 0.7484\n",
      "Epoch: [ 139 / 200] | D. Loss: 0.6223 | G. Loss: 0.9079\n",
      "Epoch: [ 140 / 200] | D. Loss: 0.6456 | G. Loss: 0.8287\n",
      "Epoch: [ 141 / 200] | D. Loss: 0.6241 | G. Loss: 1.2294\n",
      "Epoch: [ 142 / 200] | D. Loss: 0.5824 | G. Loss: 0.8668\n",
      "Epoch: [ 143 / 200] | D. Loss: 0.6347 | G. Loss: 1.0303\n",
      "Epoch: [ 144 / 200] | D. Loss: 0.6061 | G. Loss: 0.6882\n",
      "Epoch: [ 145 / 200] | D. Loss: 0.6206 | G. Loss: 0.6981\n",
      "Epoch: [ 146 / 200] | D. Loss: 0.6355 | G. Loss: 1.1132\n",
      "Epoch: [ 147 / 200] | D. Loss: 0.6313 | G. Loss: 1.0256\n",
      "Epoch: [ 148 / 200] | D. Loss: 0.6096 | G. Loss: 0.9214\n",
      "Epoch: [ 149 / 200] | D. Loss: 0.6350 | G. Loss: 1.0150\n",
      "Epoch: [ 150 / 200] | D. Loss: 0.6424 | G. Loss: 1.0897\n",
      "Epoch: [ 151 / 200] | D. Loss: 0.6289 | G. Loss: 0.8314\n",
      "Epoch: [ 152 / 200] | D. Loss: 0.6317 | G. Loss: 0.7302\n",
      "Epoch: [ 153 / 200] | D. Loss: 0.6273 | G. Loss: 0.8265\n",
      "Epoch: [ 154 / 200] | D. Loss: 0.6236 | G. Loss: 1.3369\n",
      "Epoch: [ 155 / 200] | D. Loss: 0.6105 | G. Loss: 1.1365\n",
      "Epoch: [ 156 / 200] | D. Loss: 0.6373 | G. Loss: 0.6634\n",
      "Epoch: [ 157 / 200] | D. Loss: 0.6326 | G. Loss: 0.9322\n",
      "Epoch: [ 158 / 200] | D. Loss: 0.5832 | G. Loss: 1.1578\n",
      "Epoch: [ 159 / 200] | D. Loss: 0.6497 | G. Loss: 1.3116\n",
      "Epoch: [ 160 / 200] | D. Loss: 0.5816 | G. Loss: 1.0022\n",
      "Epoch: [ 161 / 200] | D. Loss: 0.6538 | G. Loss: 1.1844\n",
      "Epoch: [ 162 / 200] | D. Loss: 0.5811 | G. Loss: 0.8190\n",
      "Epoch: [ 163 / 200] | D. Loss: 0.6358 | G. Loss: 0.9472\n",
      "Epoch: [ 164 / 200] | D. Loss: 0.5770 | G. Loss: 0.9159\n",
      "Epoch: [ 165 / 200] | D. Loss: 0.6131 | G. Loss: 0.8525\n",
      "Epoch: [ 166 / 200] | D. Loss: 0.6316 | G. Loss: 1.1433\n",
      "Epoch: [ 167 / 200] | D. Loss: 0.6407 | G. Loss: 0.6324\n",
      "Epoch: [ 168 / 200] | D. Loss: 0.6541 | G. Loss: 1.5174\n",
      "Epoch: [ 169 / 200] | D. Loss: 0.5922 | G. Loss: 1.0722\n",
      "Epoch: [ 170 / 200] | D. Loss: 0.6019 | G. Loss: 0.9488\n",
      "Epoch: [ 171 / 200] | D. Loss: 0.6029 | G. Loss: 0.6613\n",
      "Epoch: [ 172 / 200] | D. Loss: 0.6092 | G. Loss: 0.7197\n",
      "Epoch: [ 173 / 200] | D. Loss: 0.5514 | G. Loss: 1.0566\n",
      "Epoch: [ 174 / 200] | D. Loss: 0.6309 | G. Loss: 0.6428\n",
      "Epoch: [ 175 / 200] | D. Loss: 0.5653 | G. Loss: 0.7147\n",
      "Epoch: [ 176 / 200] | D. Loss: 0.7251 | G. Loss: 1.3732\n",
      "Epoch: [ 177 / 200] | D. Loss: 0.6155 | G. Loss: 0.7873\n",
      "Epoch: [ 178 / 200] | D. Loss: 0.5751 | G. Loss: 1.2290\n",
      "Epoch: [ 179 / 200] | D. Loss: 0.5885 | G. Loss: 1.1006\n",
      "Epoch: [ 180 / 200] | D. Loss: 0.6192 | G. Loss: 0.8107\n",
      "Epoch: [ 181 / 200] | D. Loss: 0.5744 | G. Loss: 0.8900\n",
      "Epoch: [ 182 / 200] | D. Loss: 0.5630 | G. Loss: 0.7141\n",
      "Epoch: [ 183 / 200] | D. Loss: 0.6250 | G. Loss: 0.8529\n",
      "Epoch: [ 184 / 200] | D. Loss: 0.5898 | G. Loss: 0.8775\n",
      "Epoch: [ 185 / 200] | D. Loss: 0.6236 | G. Loss: 0.6801\n",
      "Epoch: [ 186 / 200] | D. Loss: 0.5960 | G. Loss: 1.0543\n",
      "Epoch: [ 187 / 200] | D. Loss: 0.6051 | G. Loss: 0.8291\n",
      "Epoch: [ 188 / 200] | D. Loss: 0.6626 | G. Loss: 1.2293\n",
      "Epoch: [ 189 / 200] | D. Loss: 0.6689 | G. Loss: 0.8681\n",
      "Epoch: [ 190 / 200] | D. Loss: 0.5714 | G. Loss: 0.8611\n",
      "Epoch: [ 191 / 200] | D. Loss: 0.6153 | G. Loss: 1.3664\n",
      "Epoch: [ 192 / 200] | D. Loss: 0.6003 | G. Loss: 1.0724\n",
      "Epoch: [ 193 / 200] | D. Loss: 0.5869 | G. Loss: 0.8237\n",
      "Epoch: [ 194 / 200] | D. Loss: 0.6052 | G. Loss: 1.2204\n",
      "Epoch: [ 195 / 200] | D. Loss: 0.6335 | G. Loss: 1.5107\n",
      "Epoch: [ 196 / 200] | D. Loss: 0.6724 | G. Loss: 1.5557\n",
      "Epoch: [ 197 / 200] | D. Loss: 0.6006 | G. Loss: 0.6953\n",
      "Epoch: [ 198 / 200] | D. Loss: 0.6149 | G. Loss: 0.9952\n",
      "Epoch: [ 199 / 200] | D. Loss: 0.6208 | G. Loss: 0.7752\n",
      "Epoch: [ 200 / 200] | D. Loss: 0.5466 | G. Loss: 0.7685\n"
     ]
    }
   ],
   "source": [
    "ones_ = torch.ones(batch_size, 1).to(device)\n",
    "zeros_ = torch.zeros(batch_size, 1).to(device)\n",
    "\n",
    "d_losses = []\n",
    "g_losses = []\n",
    "\n",
    "epochs = 200\n",
    "\n",
    "for ep in range(epochs):\n",
    "  for inputs, _ in data_loader:\n",
    "\n",
    "    n = inputs.size(0)\n",
    "    inputs = inputs.reshape(n, 784).to(device)\n",
    "\n",
    "    ones = ones_[:n]\n",
    "    zeros = zeros_[:n]\n",
    "\n",
    "    real_outputs = D(inputs)\n",
    "    d_loss_real = criterion(real_outputs, ones)\n",
    "\n",
    "    noise = torch.randn(n, latent_dim).to(device)\n",
    "    fake_images = G(noise)\n",
    "    fake_outputs = D(fake_images)\n",
    "    d_loss_fake = criterion(fake_outputs, zeros)\n",
    "\n",
    "    d_loss = 0.5 * (d_loss_real + d_loss_fake)\n",
    "    d_optimizer.zero_grad()\n",
    "    g_optimizer.zero_grad()\n",
    "    d_loss.backward()\n",
    "    d_optimizer.step()\n",
    "\n",
    "    for _ in range(2):\n",
    "      noise = torch.randn(n, latent_dim).to(device)\n",
    "      fake_images = G(noise)\n",
    "      fake_outputs = D(fake_images)\n",
    "\n",
    "      g_loss = criterion(fake_outputs, ones)\n",
    "\n",
    "      d_optimizer.zero_grad()\n",
    "      g_optimizer.zero_grad()\n",
    "      g_loss.backward()\n",
    "      g_optimizer.step()\n",
    "\n",
    "    d_losses.append(d_loss.item())\n",
    "    g_losses.append(g_loss.item())\n",
    "\n",
    "  print(f'Epoch: [ {ep+1} / {epochs}] | D. Loss: {d_loss.item():.4f} | G. Loss: {g_loss.item():.4f}')\n",
    "\n",
    "  fake_images = fake_images.reshape(-1, 1, 28, 28)\n",
    "  save_image(scale_image(fake_images), f'gan_images/{ep+1}.png')"
   ]
  },
  {
   "cell_type": "code",
   "execution_count": 13,
   "metadata": {
    "colab": {
     "base_uri": "https://localhost:8080/",
     "height": 472
    },
    "id": "mvLdYSDq_Gg1",
    "outputId": "b461f79a-e4c2-4b2c-a790-521ba036d133"
   },
   "outputs": [
    {
     "data": {
      "image/png": "[encoded data removed]",
      "text/plain": [
       "<Figure size 640x480 with 1 Axes>"
      ]
     },
     "metadata": {},
     "output_type": "display_data"
    }
   ],
   "source": [
    "fig, ax = plt.subplots()\n",
    "ax.plot(g_losses, 'blue', label='Generator Loss')\n",
    "ax.plot(d_losses, 'red', label='Discriminator Loss')\n",
    "ax.set(title='Loss per Epoch',\n",
    "       ylabel='Cross-Entropy Loss',\n",
    "       xlabel='Epochs')\n",
    "ax.legend()\n",
    "ax.grid()\n",
    "plt.show()"
   ]
  },
  {
   "cell_type": "code",
   "execution_count": 14,
   "metadata": {
    "id": "bNqeQmZmbqiv"
   },
   "outputs": [],
   "source": [
    "torch.save(G.state_dict, 'image_generator.pt')\n",
    "torch.save(D.state_dict, 'discriminator.pt')"
   ]
  },
  {
   "cell_type": "code",
   "execution_count": 57,
   "metadata": {
    "id": "fBXtV5NY4TGG"
   },
   "outputs": [],
   "source": [
    "noise = torch.randn(100, latent_dim).to(device)\n",
    "with torch.no_grad():\n",
    "  images = G(noise)\n",
    "  outputs = D(images)"
   ]
  },
  {
   "cell_type": "code",
   "execution_count": 58,
   "metadata": {
    "id": "MqcpOkhSQYvG"
   },
   "outputs": [],
   "source": [
    "best_idx = torch.argsort(outputs.reshape(-1,))[:4]\n",
    "best_images = images[best_idx,:]"
   ]
  },
  {
   "cell_type": "code",
   "execution_count": 59,
   "metadata": {
    "colab": {
     "base_uri": "https://localhost:8080/",
     "height": 454
    },
    "id": "FbVnlkof4fvu",
    "outputId": "9a44dafe-a512-488a-a7cc-74571cd5889d"
   },
   "outputs": [
    {
     "data": {
      "image/png": "[encoded data removed]",
      "text/plain": [
       "<Figure size 640x480 with 4 Axes>"
      ]
     },
     "metadata": {},
     "output_type": "display_data"
    }
   ],
   "source": [
    "best_images = scale_image(best_images.reshape(-1, 28, 28)).to('cpu').numpy()\n",
    "fig, ((ax1, ax2), (ax3, ax4)) = plt.subplots(nrows=2, ncols=2)\n",
    "ax1.imshow(best_images[0,:,:], cmap='gray')\n",
    "ax1.set(xticks=([]), yticks=([]))\n",
    "ax2.imshow(best_images[1,:,:], cmap='gray')\n",
    "ax2.set(xticks=([]), yticks=([]))\n",
    "ax3.imshow(best_images[2,:,:], cmap='gray')\n",
    "ax3.set(xticks=([]), yticks=([]))\n",
    "ax4.imshow(best_images[3,:,:], cmap='gray')\n",
    "ax4.set(xticks=([]), yticks=([]))\n",
    "plt.suptitle('AI Generated Images')\n",
    "plt.show()"
   ]
  }
 ],
 "metadata": {
  "accelerator": "GPU",
  "colab": {
   "gpuType": "T4",
   "provenance": []
  },
  "kernelspec": {
   "display_name": "Python 3 (ipykernel)",
   "language": "python",
   "name": "python3"
  },
  "language_info": {
   "codemirror_mode": {
    "name": "ipython",
    "version": 3
   },
   "file_extension": ".py",
   "mimetype": "text/x-python",
   "name": "python",
   "nbconvert_exporter": "python",
   "pygments_lexer": "ipython3",
   "version": "3.10.10"
  }
 },
 "nbformat": 4,
 "nbformat_minor": 4
}
