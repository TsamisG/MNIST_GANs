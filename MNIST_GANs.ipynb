{
 "cells": [
  {
   "cell_type": "code",
   "execution_count": 1,
   "metadata": {
    "id": "22UXtlWESaVn"
   },
   "outputs": [],
   "source": [
    "import torch\n",
    "import torch.nn as nn\n",
    "import torchvision\n",
    "import torchvision.transforms as transforms\n",
    "from torchvision.utils import save_image\n",
    "import numpy as np\n",
    "import matplotlib.pyplot as plt\n",
    "import os"
   ]
  },
  {
   "cell_type": "code",
   "execution_count": 2,
   "metadata": {
    "id": "SCWuIkMpSnhA"
   },
   "outputs": [],
   "source": [
    "transform = transforms.Compose([\n",
    "    transforms.ToTensor(),\n",
    "    transforms.Normalize(mean=(0.5,),\n",
    "                         std=(0.5,))])"
   ]
  },
  {
   "cell_type": "code",
   "execution_count": 3,
   "metadata": {
    "colab": {
     "base_uri": "https://localhost:8080/"
    },
    "id": "uJUkdBpxS1dh",
    "outputId": "c5ab5b49-3e40-49e6-c91b-62a51ee2266f"
   },
   "outputs": [
    {
     "name": "stdout",
     "output_type": "stream",
     "text": [
      "Downloading http://yann.lecun.com/exdb/mnist/train-images-idx3-ubyte.gz\n",
      "Downloading http://yann.lecun.com/exdb/mnist/train-images-idx3-ubyte.gz to ./MNIST/raw/train-images-idx3-ubyte.gz\n"
     ]
    },
    {
     "name": "stderr",
     "output_type": "stream",
     "text": [
      "100%|██████████| 9912422/9912422 [00:00<00:00, 368190572.40it/s]"
     ]
    },
    {
     "name": "stdout",
     "output_type": "stream",
     "text": [
      "Extracting ./MNIST/raw/train-images-idx3-ubyte.gz to ./MNIST/raw\n"
     ]
    },
    {
     "name": "stderr",
     "output_type": "stream",
     "text": [
      "\n"
     ]
    },
    {
     "name": "stdout",
     "output_type": "stream",
     "text": [
      "\n",
      "Downloading http://yann.lecun.com/exdb/mnist/train-labels-idx1-ubyte.gz\n",
      "Downloading http://yann.lecun.com/exdb/mnist/train-labels-idx1-ubyte.gz to ./MNIST/raw/train-labels-idx1-ubyte.gz\n"
     ]
    },
    {
     "name": "stderr",
     "output_type": "stream",
     "text": [
      "100%|██████████| 28881/28881 [00:00<00:00, 15707429.18it/s]\n"
     ]
    },
    {
     "name": "stdout",
     "output_type": "stream",
     "text": [
      "Extracting ./MNIST/raw/train-labels-idx1-ubyte.gz to ./MNIST/raw\n",
      "\n",
      "Downloading http://yann.lecun.com/exdb/mnist/t10k-images-idx3-ubyte.gz\n",
      "Downloading http://yann.lecun.com/exdb/mnist/t10k-images-idx3-ubyte.gz to ./MNIST/raw/t10k-images-idx3-ubyte.gz\n"
     ]
    },
    {
     "name": "stderr",
     "output_type": "stream",
     "text": [
      "100%|██████████| 1648877/1648877 [00:00<00:00, 196173239.82it/s]"
     ]
    },
    {
     "name": "stdout",
     "output_type": "stream",
     "text": [
      "Extracting ./MNIST/raw/t10k-images-idx3-ubyte.gz to ./MNIST/raw\n",
      "\n",
      "Downloading http://yann.lecun.com/exdb/mnist/t10k-labels-idx1-ubyte.gz\n",
      "Downloading http://yann.lecun.com/exdb/mnist/t10k-labels-idx1-ubyte.gz to ./MNIST/raw/t10k-labels-idx1-ubyte.gz\n"
     ]
    },
    {
     "name": "stderr",
     "output_type": "stream",
     "text": [
      "\n",
      "100%|██████████| 4542/4542 [00:00<00:00, 20957677.41it/s]\n"
     ]
    },
    {
     "name": "stdout",
     "output_type": "stream",
     "text": [
      "Extracting ./MNIST/raw/t10k-labels-idx1-ubyte.gz to ./MNIST/raw\n",
      "\n"
     ]
    }
   ],
   "source": [
    "train_dataset = torchvision.datasets.MNIST(\n",
    "    root='.',\n",
    "    train=True,\n",
    "    transform=transform,\n",
    "    download=True)"
   ]
  },
  {
   "cell_type": "code",
   "execution_count": 4,
   "metadata": {
    "colab": {
     "base_uri": "https://localhost:8080/"
    },
    "id": "G3CDVtt2TADS",
    "outputId": "5ac10bf8-221b-49b6-b675-a3673123b568"
   },
   "outputs": [
    {
     "data": {
      "text/plain": [
       "60000"
      ]
     },
     "execution_count": 4,
     "metadata": {},
     "output_type": "execute_result"
    }
   ],
   "source": [
    "len(train_dataset)"
   ]
  },
  {
   "cell_type": "code",
   "execution_count": 5,
   "metadata": {
    "id": "m5brFdNTTDpp"
   },
   "outputs": [],
   "source": [
    "batch_size = 128\n",
    "data_loader = torch.utils.data.DataLoader(dataset=train_dataset,\n",
    "                                          batch_size=batch_size,\n",
    "                                          shuffle=True)"
   ]
  },
  {
   "cell_type": "code",
   "execution_count": 6,
   "metadata": {
    "id": "Tq7dUgc-TLxX"
   },
   "outputs": [],
   "source": [
    "D = nn.Sequential(\n",
    "    nn.Linear(784, 512),\n",
    "    nn.LeakyReLU(0.2),\n",
    "    nn.Linear(512, 256),\n",
    "    nn.LeakyReLU(0.2),\n",
    "    nn.Linear(256, 1),\n",
    ")"
   ]
  },
  {
   "cell_type": "code",
   "execution_count": 7,
   "metadata": {
    "id": "xb_m8QNRTWPJ"
   },
   "outputs": [],
   "source": [
    "latent_dim = 100\n",
    "G = nn.Sequential(\n",
    "    nn.Linear(latent_dim, 256),\n",
    "    nn.LeakyReLU(0.2),\n",
    "    nn.BatchNorm1d(256, momentum=0.7),\n",
    "    nn.Linear(256, 512),\n",
    "    nn.LeakyReLU(0.2),\n",
    "    nn.BatchNorm1d(512, momentum=0.7),\n",
    "    nn.Linear(512, 1024),\n",
    "    nn.LeakyReLU(0.2),\n",
    "    nn.BatchNorm1d(1024, momentum=0.7),\n",
    "    nn.Linear(1024, 784),\n",
    "    nn.Tanh()\n",
    ")"
   ]
  },
  {
   "cell_type": "code",
   "execution_count": 8,
   "metadata": {
    "id": "lojJeM-5vvmF"
   },
   "outputs": [],
   "source": [
    "device = torch.device('cuda:0' if torch.cuda.is_available() else 'cpu')\n",
    "D = D.to(device)\n",
    "G = G.to(device)"
   ]
  },
  {
   "cell_type": "code",
   "execution_count": 9,
   "metadata": {
    "id": "4cQtkmiZTz_V"
   },
   "outputs": [],
   "source": [
    "criterion = nn.BCEWithLogitsLoss()\n",
    "d_optimizer = torch.optim.Adam(D.parameters(), lr=0.001, betas=(0.5, 0.999))\n",
    "g_optimizer = torch.optim.Adam(G.parameters(), lr=0.001, betas=(0.5, 0.999))"
   ]
  },
  {
   "cell_type": "code",
   "execution_count": 10,
   "metadata": {
    "id": "We6AQu5OUEpo"
   },
   "outputs": [],
   "source": [
    "def scale_image(img):\n",
    "  out = (img + 1) / 2\n",
    "  return out"
   ]
  },
  {
   "cell_type": "code",
   "execution_count": 11,
   "metadata": {
    "id": "_hzHPP_IUIBW"
   },
   "outputs": [],
   "source": [
    "if not os.path.exists('gan_images'):\n",
    "  os.makedirs('gan_images')"
   ]
  },
  {
   "cell_type": "code",
   "execution_count": 12,
   "metadata": {
    "colab": {
     "base_uri": "https://localhost:8080/"
    },
    "id": "skOGzvBzaJQ8",
    "outputId": "abde17d1-ff48-4411-f97f-02cfe796643b"
   },
   "outputs": [
    {
     "name": "stdout",
     "output_type": "stream",
     "text": [
      "Epoch: [ 1 / 200] | D. Loss: 0.6800 | G. Loss: 0.7430\n",
      "Epoch: [ 2 / 200] | D. Loss: 0.7144 | G. Loss: 0.9608\n",
      "Epoch: [ 3 / 200] | D. Loss: 0.6744 | G. Loss: 0.8671\n",
      "Epoch: [ 4 / 200] | D. Loss: 0.6934 | G. Loss: 0.8228\n",
      "Epoch: [ 5 / 200] | D. Loss: 0.6755 | G. Loss: 0.7813\n",
      "Epoch: [ 6 / 200] | D. Loss: 0.6824 | G. Loss: 0.7431\n",
      "Epoch: [ 7 / 200] | D. Loss: 0.6984 | G. Loss: 0.6769\n",
      "Epoch: [ 8 / 200] | D. Loss: 0.6775 | G. Loss: 0.6183\n",
      "Epoch: [ 9 / 200] | D. Loss: 0.6530 | G. Loss: 0.7607\n",
      "Epoch: [ 10 / 200] | D. Loss: 0.6689 | G. Loss: 0.7281\n",
      "Epoch: [ 11 / 200] | D. Loss: 0.6957 | G. Loss: 0.7097\n",
      "Epoch: [ 12 / 200] | D. Loss: 0.6861 | G. Loss: 0.7226\n",
      "Epoch: [ 13 / 200] | D. Loss: 0.6669 | G. Loss: 0.7770\n",
      "Epoch: [ 14 / 200] | D. Loss: 0.7046 | G. Loss: 0.6791\n",
      "Epoch: [ 15 / 200] | D. Loss: 0.6905 | G. Loss: 0.6756\n",
      "Epoch: [ 16 / 200] | D. Loss: 0.6876 | G. Loss: 0.7252\n",
      "Epoch: [ 17 / 200] | D. Loss: 0.6807 | G. Loss: 0.7082\n",
      "Epoch: [ 18 / 200] | D. Loss: 0.6923 | G. Loss: 0.6805\n",
      "Epoch: [ 19 / 200] | D. Loss: 0.6948 | G. Loss: 0.7222\n",
      "Epoch: [ 20 / 200] | D. Loss: 0.7002 | G. Loss: 0.8904\n",
      "Epoch: [ 21 / 200] | D. Loss: 0.6933 | G. Loss: 0.6972\n",
      "Epoch: [ 22 / 200] | D. Loss: 0.6916 | G. Loss: 0.7769\n",
      "Epoch: [ 23 / 200] | D. Loss: 0.6965 | G. Loss: 0.7607\n",
      "Epoch: [ 24 / 200] | D. Loss: 0.6812 | G. Loss: 0.7468\n",
      "Epoch: [ 25 / 200] | D. Loss: 0.6885 | G. Loss: 0.7086\n",
      "Epoch: [ 26 / 200] | D. Loss: 0.6878 | G. Loss: 0.7675\n",
      "Epoch: [ 27 / 200] | D. Loss: 0.7060 | G. Loss: 0.5551\n",
      "Epoch: [ 28 / 200] | D. Loss: 0.7016 | G. Loss: 0.6572\n",
      "Epoch: [ 29 / 200] | D. Loss: 0.7043 | G. Loss: 0.7237\n",
      "Epoch: [ 30 / 200] | D. Loss: 0.6995 | G. Loss: 0.7024\n",
      "Epoch: [ 31 / 200] | D. Loss: 0.6969 | G. Loss: 0.6650\n",
      "Epoch: [ 32 / 200] | D. Loss: 0.6932 | G. Loss: 0.6468\n",
      "Epoch: [ 33 / 200] | D. Loss: 0.6935 | G. Loss: 0.7092\n",
      "Epoch: [ 34 / 200] | D. Loss: 0.6955 | G. Loss: 0.6832\n",
      "Epoch: [ 35 / 200] | D. Loss: 0.6925 | G. Loss: 0.6930\n",
      "Epoch: [ 36 / 200] | D. Loss: 0.7030 | G. Loss: 0.7286\n",
      "Epoch: [ 37 / 200] | D. Loss: 0.6835 | G. Loss: 0.7509\n",
      "Epoch: [ 38 / 200] | D. Loss: 0.6788 | G. Loss: 0.7842\n",
      "Epoch: [ 39 / 200] | D. Loss: 0.7175 | G. Loss: 0.9710\n",
      "Epoch: [ 40 / 200] | D. Loss: 0.6933 | G. Loss: 0.6988\n",
      "Epoch: [ 41 / 200] | D. Loss: 0.6922 | G. Loss: 0.6789\n",
      "Epoch: [ 42 / 200] | D. Loss: 0.6770 | G. Loss: 0.7480\n",
      "Epoch: [ 43 / 200] | D. Loss: 0.6956 | G. Loss: 0.6947\n",
      "Epoch: [ 44 / 200] | D. Loss: 0.6896 | G. Loss: 0.7030\n",
      "Epoch: [ 45 / 200] | D. Loss: 0.6942 | G. Loss: 0.7129\n",
      "Epoch: [ 46 / 200] | D. Loss: 0.7153 | G. Loss: 0.6395\n",
      "Epoch: [ 47 / 200] | D. Loss: 0.6863 | G. Loss: 0.7049\n",
      "Epoch: [ 48 / 200] | D. Loss: 0.7049 | G. Loss: 0.7279\n",
      "Epoch: [ 49 / 200] | D. Loss: 0.6870 | G. Loss: 0.7202\n",
      "Epoch: [ 50 / 200] | D. Loss: 0.6971 | G. Loss: 0.6862\n",
      "Epoch: [ 51 / 200] | D. Loss: 0.7026 | G. Loss: 0.8807\n",
      "Epoch: [ 52 / 200] | D. Loss: 0.6931 | G. Loss: 0.6716\n",
      "Epoch: [ 53 / 200] | D. Loss: 0.6909 | G. Loss: 0.9081\n",
      "Epoch: [ 54 / 200] | D. Loss: 0.6864 | G. Loss: 0.6907\n",
      "Epoch: [ 55 / 200] | D. Loss: 0.7126 | G. Loss: 0.6331\n",
      "Epoch: [ 56 / 200] | D. Loss: 0.7017 | G. Loss: 0.7493\n",
      "Epoch: [ 57 / 200] | D. Loss: 0.6877 | G. Loss: 0.7273\n",
      "Epoch: [ 58 / 200] | D. Loss: 0.6785 | G. Loss: 0.6602\n",
      "Epoch: [ 59 / 200] | D. Loss: 0.7080 | G. Loss: 0.5567\n",
      "Epoch: [ 60 / 200] | D. Loss: 0.6882 | G. Loss: 0.6931\n",
      "Epoch: [ 61 / 200] | D. Loss: 0.6871 | G. Loss: 0.8108\n",
      "Epoch: [ 62 / 200] | D. Loss: 0.6918 | G. Loss: 0.6626\n",
      "Epoch: [ 63 / 200] | D. Loss: 0.6983 | G. Loss: 0.6330\n",
      "Epoch: [ 64 / 200] | D. Loss: 0.6953 | G. Loss: 0.7104\n",
      "Epoch: [ 65 / 200] | D. Loss: 0.6787 | G. Loss: 0.6527\n",
      "Epoch: [ 66 / 200] | D. Loss: 0.6949 | G. Loss: 0.6936\n",
      "Epoch: [ 67 / 200] | D. Loss: 0.6977 | G. Loss: 0.6244\n",
      "Epoch: [ 68 / 200] | D. Loss: 0.6966 | G. Loss: 0.6662\n",
      "Epoch: [ 69 / 200] | D. Loss: 0.6948 | G. Loss: 0.6650\n",
      "Epoch: [ 70 / 200] | D. Loss: 0.7077 | G. Loss: 0.7055\n",
      "Epoch: [ 71 / 200] | D. Loss: 0.6872 | G. Loss: 0.6447\n",
      "Epoch: [ 72 / 200] | D. Loss: 0.7009 | G. Loss: 0.7368\n",
      "Epoch: [ 73 / 200] | D. Loss: 0.6688 | G. Loss: 0.6697\n",
      "Epoch: [ 74 / 200] | D. Loss: 0.6918 | G. Loss: 0.7320\n",
      "Epoch: [ 75 / 200] | D. Loss: 0.6867 | G. Loss: 0.8092\n",
      "Epoch: [ 76 / 200] | D. Loss: 0.6798 | G. Loss: 0.7267\n",
      "Epoch: [ 77 / 200] | D. Loss: 0.6894 | G. Loss: 0.6901\n",
      "Epoch: [ 78 / 200] | D. Loss: 0.6663 | G. Loss: 0.8015\n",
      "Epoch: [ 79 / 200] | D. Loss: 0.6727 | G. Loss: 0.6918\n",
      "Epoch: [ 80 / 200] | D. Loss: 0.6831 | G. Loss: 0.8470\n",
      "Epoch: [ 81 / 200] | D. Loss: 0.6776 | G. Loss: 0.8715\n",
      "Epoch: [ 82 / 200] | D. Loss: 0.6718 | G. Loss: 0.7473\n",
      "Epoch: [ 83 / 200] | D. Loss: 0.6870 | G. Loss: 0.7048\n",
      "Epoch: [ 84 / 200] | D. Loss: 0.6624 | G. Loss: 0.7258\n",
      "Epoch: [ 85 / 200] | D. Loss: 0.6936 | G. Loss: 0.6081\n",
      "Epoch: [ 86 / 200] | D. Loss: 0.6729 | G. Loss: 0.7624\n",
      "Epoch: [ 87 / 200] | D. Loss: 0.7229 | G. Loss: 0.5082\n",
      "Epoch: [ 88 / 200] | D. Loss: 0.6717 | G. Loss: 0.8253\n",
      "Epoch: [ 89 / 200] | D. Loss: 0.6474 | G. Loss: 0.7059\n",
      "Epoch: [ 90 / 200] | D. Loss: 0.6740 | G. Loss: 0.7423\n",
      "Epoch: [ 91 / 200] | D. Loss: 0.6778 | G. Loss: 0.7035\n",
      "Epoch: [ 92 / 200] | D. Loss: 0.6761 | G. Loss: 0.8844\n",
      "Epoch: [ 93 / 200] | D. Loss: 0.6750 | G. Loss: 0.6452\n",
      "Epoch: [ 94 / 200] | D. Loss: 0.6618 | G. Loss: 0.8293\n",
      "Epoch: [ 95 / 200] | D. Loss: 0.6704 | G. Loss: 0.8263\n",
      "Epoch: [ 96 / 200] | D. Loss: 0.6529 | G. Loss: 0.7677\n",
      "Epoch: [ 97 / 200] | D. Loss: 0.6884 | G. Loss: 0.7512\n",
      "Epoch: [ 98 / 200] | D. Loss: 0.6873 | G. Loss: 1.1399\n",
      "Epoch: [ 99 / 200] | D. Loss: 0.6602 | G. Loss: 0.7556\n",
      "Epoch: [ 100 / 200] | D. Loss: 0.6850 | G. Loss: 0.6627\n",
      "Epoch: [ 101 / 200] | D. Loss: 0.6658 | G. Loss: 0.7775\n",
      "Epoch: [ 102 / 200] | D. Loss: 0.6521 | G. Loss: 0.9193\n",
      "Epoch: [ 103 / 200] | D. Loss: 0.6848 | G. Loss: 0.6396\n",
      "Epoch: [ 104 / 200] | D. Loss: 0.6715 | G. Loss: 0.7393\n",
      "Epoch: [ 105 / 200] | D. Loss: 0.6729 | G. Loss: 0.8422\n",
      "Epoch: [ 106 / 200] | D. Loss: 0.6346 | G. Loss: 0.8657\n",
      "Epoch: [ 107 / 200] | D. Loss: 0.6679 | G. Loss: 0.8950\n",
      "Epoch: [ 108 / 200] | D. Loss: 0.6597 | G. Loss: 0.7911\n",
      "Epoch: [ 109 / 200] | D. Loss: 0.6820 | G. Loss: 0.6986\n",
      "Epoch: [ 110 / 200] | D. Loss: 0.6671 | G. Loss: 0.8239\n",
      "Epoch: [ 111 / 200] | D. Loss: 0.6483 | G. Loss: 0.5915\n",
      "Epoch: [ 112 / 200] | D. Loss: 0.6626 | G. Loss: 0.8676\n",
      "Epoch: [ 113 / 200] | D. Loss: 0.7629 | G. Loss: 0.5568\n",
      "Epoch: [ 114 / 200] | D. Loss: 0.6402 | G. Loss: 0.8182\n",
      "Epoch: [ 115 / 200] | D. Loss: 0.6662 | G. Loss: 0.6216\n",
      "Epoch: [ 116 / 200] | D. Loss: 0.6537 | G. Loss: 0.8031\n",
      "Epoch: [ 117 / 200] | D. Loss: 0.6379 | G. Loss: 0.8767\n",
      "Epoch: [ 118 / 200] | D. Loss: 0.6530 | G. Loss: 0.8686\n",
      "Epoch: [ 119 / 200] | D. Loss: 0.6928 | G. Loss: 0.9870\n",
      "Epoch: [ 120 / 200] | D. Loss: 0.6390 | G. Loss: 0.7659\n",
      "Epoch: [ 121 / 200] | D. Loss: 0.6347 | G. Loss: 0.7797\n",
      "Epoch: [ 122 / 200] | D. Loss: 0.6064 | G. Loss: 0.8216\n",
      "Epoch: [ 123 / 200] | D. Loss: 0.6810 | G. Loss: 1.1201\n",
      "Epoch: [ 124 / 200] | D. Loss: 0.6736 | G. Loss: 0.7221\n",
      "Epoch: [ 125 / 200] | D. Loss: 0.6328 | G. Loss: 0.7291\n",
      "Epoch: [ 126 / 200] | D. Loss: 0.6688 | G. Loss: 0.6537\n",
      "Epoch: [ 127 / 200] | D. Loss: 0.6601 | G. Loss: 0.7297\n",
      "Epoch: [ 128 / 200] | D. Loss: 0.6565 | G. Loss: 0.7654\n",
      "Epoch: [ 129 / 200] | D. Loss: 0.5971 | G. Loss: 1.0241\n",
      "Epoch: [ 130 / 200] | D. Loss: 0.6485 | G. Loss: 0.9634\n",
      "Epoch: [ 131 / 200] | D. Loss: 0.6138 | G. Loss: 0.8204\n",
      "Epoch: [ 132 / 200] | D. Loss: 0.6061 | G. Loss: 0.7497\n",
      "Epoch: [ 133 / 200] | D. Loss: 0.6198 | G. Loss: 0.9382\n",
      "Epoch: [ 134 / 200] | D. Loss: 0.6579 | G. Loss: 0.9004\n",
      "Epoch: [ 135 / 200] | D. Loss: 0.6820 | G. Loss: 0.6353\n",
      "Epoch: [ 136 / 200] | D. Loss: 0.6580 | G. Loss: 0.9921\n",
      "Epoch: [ 137 / 200] | D. Loss: 0.6174 | G. Loss: 0.9419\n",
      "Epoch: [ 138 / 200] | D. Loss: 0.6697 | G. Loss: 0.8306\n",
      "Epoch: [ 139 / 200] | D. Loss: 0.6397 | G. Loss: 1.1594\n",
      "Epoch: [ 140 / 200] | D. Loss: 0.6410 | G. Loss: 0.7928\n",
      "Epoch: [ 141 / 200] | D. Loss: 0.6555 | G. Loss: 0.9283\n",
      "Epoch: [ 142 / 200] | D. Loss: 0.6024 | G. Loss: 0.9311\n",
      "Epoch: [ 143 / 200] | D. Loss: 0.6558 | G. Loss: 0.8634\n",
      "Epoch: [ 144 / 200] | D. Loss: 0.6553 | G. Loss: 0.9342\n",
      "Epoch: [ 145 / 200] | D. Loss: 0.5931 | G. Loss: 0.8380\n",
      "Epoch: [ 146 / 200] | D. Loss: 0.6076 | G. Loss: 1.0555\n",
      "Epoch: [ 147 / 200] | D. Loss: 0.6103 | G. Loss: 0.8712\n",
      "Epoch: [ 148 / 200] | D. Loss: 0.6187 | G. Loss: 0.6076\n",
      "Epoch: [ 149 / 200] | D. Loss: 0.6083 | G. Loss: 0.7867\n",
      "Epoch: [ 150 / 200] | D. Loss: 0.6732 | G. Loss: 1.1170\n",
      "Epoch: [ 151 / 200] | D. Loss: 0.6423 | G. Loss: 0.9868\n",
      "Epoch: [ 152 / 200] | D. Loss: 0.6787 | G. Loss: 0.5377\n",
      "Epoch: [ 153 / 200] | D. Loss: 0.5780 | G. Loss: 1.0815\n",
      "Epoch: [ 154 / 200] | D. Loss: 0.6149 | G. Loss: 0.8729\n",
      "Epoch: [ 155 / 200] | D. Loss: 0.6557 | G. Loss: 0.7860\n",
      "Epoch: [ 156 / 200] | D. Loss: 0.6277 | G. Loss: 1.1408\n",
      "Epoch: [ 157 / 200] | D. Loss: 0.6182 | G. Loss: 1.0141\n",
      "Epoch: [ 158 / 200] | D. Loss: 0.6737 | G. Loss: 1.0379\n",
      "Epoch: [ 159 / 200] | D. Loss: 0.6049 | G. Loss: 0.8299\n",
      "Epoch: [ 160 / 200] | D. Loss: 0.6873 | G. Loss: 1.1503\n",
      "Epoch: [ 161 / 200] | D. Loss: 0.6549 | G. Loss: 1.0803\n",
      "Epoch: [ 162 / 200] | D. Loss: 0.6158 | G. Loss: 0.8404\n",
      "Epoch: [ 163 / 200] | D. Loss: 0.6435 | G. Loss: 0.6873\n",
      "Epoch: [ 164 / 200] | D. Loss: 0.5772 | G. Loss: 0.5670\n",
      "Epoch: [ 165 / 200] | D. Loss: 0.5630 | G. Loss: 0.9740\n",
      "Epoch: [ 166 / 200] | D. Loss: 0.6172 | G. Loss: 0.9270\n",
      "Epoch: [ 167 / 200] | D. Loss: 0.6190 | G. Loss: 1.1960\n",
      "Epoch: [ 168 / 200] | D. Loss: 0.6302 | G. Loss: 1.3069\n",
      "Epoch: [ 169 / 200] | D. Loss: 0.6060 | G. Loss: 1.0222\n",
      "Epoch: [ 170 / 200] | D. Loss: 0.6567 | G. Loss: 0.8926\n",
      "Epoch: [ 171 / 200] | D. Loss: 0.5898 | G. Loss: 0.8859\n",
      "Epoch: [ 172 / 200] | D. Loss: 0.6563 | G. Loss: 0.7761\n",
      "Epoch: [ 173 / 200] | D. Loss: 0.5866 | G. Loss: 0.8021\n",
      "Epoch: [ 174 / 200] | D. Loss: 0.6260 | G. Loss: 0.7576\n",
      "Epoch: [ 175 / 200] | D. Loss: 0.6030 | G. Loss: 0.8391\n",
      "Epoch: [ 176 / 200] | D. Loss: 0.6414 | G. Loss: 0.7468\n",
      "Epoch: [ 177 / 200] | D. Loss: 0.5841 | G. Loss: 1.0607\n",
      "Epoch: [ 178 / 200] | D. Loss: 0.5666 | G. Loss: 1.1700\n",
      "Epoch: [ 179 / 200] | D. Loss: 0.5887 | G. Loss: 1.0433\n",
      "Epoch: [ 180 / 200] | D. Loss: 0.6252 | G. Loss: 0.8126\n",
      "Epoch: [ 181 / 200] | D. Loss: 0.5730 | G. Loss: 1.1576\n",
      "Epoch: [ 182 / 200] | D. Loss: 0.5736 | G. Loss: 0.7937\n",
      "Epoch: [ 183 / 200] | D. Loss: 0.5739 | G. Loss: 0.8386\n",
      "Epoch: [ 184 / 200] | D. Loss: 0.5888 | G. Loss: 0.9749\n",
      "Epoch: [ 185 / 200] | D. Loss: 0.5734 | G. Loss: 0.9835\n",
      "Epoch: [ 186 / 200] | D. Loss: 0.5566 | G. Loss: 0.9317\n",
      "Epoch: [ 187 / 200] | D. Loss: 0.5947 | G. Loss: 1.0428\n",
      "Epoch: [ 188 / 200] | D. Loss: 0.6058 | G. Loss: 1.1387\n",
      "Epoch: [ 189 / 200] | D. Loss: 0.7103 | G. Loss: 1.5957\n",
      "Epoch: [ 190 / 200] | D. Loss: 0.6203 | G. Loss: 0.9733\n",
      "Epoch: [ 191 / 200] | D. Loss: 0.5842 | G. Loss: 1.5237\n",
      "Epoch: [ 192 / 200] | D. Loss: 0.5998 | G. Loss: 1.2718\n",
      "Epoch: [ 193 / 200] | D. Loss: 0.6742 | G. Loss: 1.4531\n",
      "Epoch: [ 194 / 200] | D. Loss: 0.5787 | G. Loss: 0.7023\n",
      "Epoch: [ 195 / 200] | D. Loss: 0.6104 | G. Loss: 1.6711\n",
      "Epoch: [ 196 / 200] | D. Loss: 0.5646 | G. Loss: 0.8724\n",
      "Epoch: [ 197 / 200] | D. Loss: 0.7027 | G. Loss: 0.8494\n",
      "Epoch: [ 198 / 200] | D. Loss: 0.5979 | G. Loss: 1.3729\n",
      "Epoch: [ 199 / 200] | D. Loss: 0.5789 | G. Loss: 0.8733\n",
      "Epoch: [ 200 / 200] | D. Loss: 0.6374 | G. Loss: 0.9749\n"
     ]
    }
   ],
   "source": [
    "ones_ = torch.ones(batch_size, 1).to(device)\n",
    "zeros_ = torch.zeros(batch_size, 1).to(device)\n",
    "\n",
    "d_losses = []\n",
    "g_losses = []\n",
    "\n",
    "epochs = 200\n",
    "\n",
    "for ep in range(epochs):\n",
    "  for inputs, _ in data_loader:\n",
    "\n",
    "    n = inputs.size(0)\n",
    "    inputs = inputs.reshape(n, 784).to(device)\n",
    "\n",
    "    ones = ones_[:n]\n",
    "    zeros = zeros_[:n]\n",
    "\n",
    "    real_outputs = D(inputs)\n",
    "    d_loss_real = criterion(real_outputs, ones)\n",
    "\n",
    "    noise = torch.randn(n, latent_dim).to(device)\n",
    "    fake_images = G(noise)\n",
    "    fake_outputs = D(fake_images)\n",
    "    d_loss_fake = criterion(fake_outputs, zeros)\n",
    "\n",
    "    d_loss = 0.5 * (d_loss_real + d_loss_fake)\n",
    "    d_optimizer.zero_grad()\n",
    "    g_optimizer.zero_grad()\n",
    "    d_loss.backward()\n",
    "    d_optimizer.step()\n",
    "\n",
    "    for _ in range(2):\n",
    "      noise = torch.randn(n, latent_dim).to(device)\n",
    "      fake_images = G(noise)\n",
    "      fake_outputs = D(fake_images)\n",
    "\n",
    "      g_loss = criterion(fake_outputs, ones)\n",
    "\n",
    "      d_optimizer.zero_grad()\n",
    "      g_optimizer.zero_grad()\n",
    "      g_loss.backward()\n",
    "      g_optimizer.step()\n",
    "\n",
    "    d_losses.append(d_loss.item())\n",
    "    g_losses.append(g_loss.item())\n",
    "\n",
    "  print(f'Epoch: [ {ep+1} / {epochs}] | D. Loss: {d_loss.item():.4f} | G. Loss: {g_loss.item():.4f}')\n",
    "\n",
    "  fake_images = fake_images.reshape(-1, 1, 28, 28)\n",
    "  save_image(scale_image(fake_images), f'gan_images/{ep+1}.png')"
   ]
  },
  {
   "cell_type": "code",
   "execution_count": 14,
   "metadata": {
    "colab": {
     "base_uri": "https://localhost:8080/",
     "height": 472
    },
    "id": "mvLdYSDq_Gg1",
    "outputId": "5cb30263-4bbf-42a2-ca5c-24c2fa4be786"
   },
   "outputs": [
    {
     "data": {
      "image/png": "[encoded data removed]",
      "text/plain": [
       "<Figure size 640x480 with 1 Axes>"
      ]
     },
     "metadata": {},
     "output_type": "display_data"
    }
   ],
   "source": [
    "fig, ax = plt.subplots()\n",
    "ax.plot(g_losses, 'blue', label='Generator Loss')\n",
    "ax.plot(d_losses, 'red', label='Discriminator Loss')\n",
    "ax.set(title='Loss per Epoch',\n",
    "       ylabel='Cross-Entropy Loss',\n",
    "       xlabel='Epochs')\n",
    "ax.legend()\n",
    "ax.grid()\n",
    "plt.show()"
   ]
  },
  {
   "cell_type": "code",
   "execution_count": 15,
   "metadata": {
    "id": "bNqeQmZmbqiv"
   },
   "outputs": [],
   "source": [
    "torch.save(G.state_dict, 'image_generator.pt')"
   ]
  },
  {
   "cell_type": "code",
   "execution_count": 93,
   "metadata": {
    "id": "fBXtV5NY4TGG"
   },
   "outputs": [],
   "source": [
    "noise = torch.randn(100, latent_dim).to(device)\n",
    "with torch.no_grad():\n",
    "  images = G(noise)\n",
    "  outputs = D(images)"
   ]
  },
  {
   "cell_type": "code",
   "execution_count": 94,
   "metadata": {
    "id": "MqcpOkhSQYvG"
   },
   "outputs": [],
   "source": [
    "best_idx = torch.argsort(outputs.reshape(-1,))[:4]\n",
    "best_images = images[best_idx,:]"
   ]
  },
  {
   "cell_type": "code",
   "execution_count": 95,
   "metadata": {
    "colab": {
     "base_uri": "https://localhost:8080/",
     "height": 454
    },
    "id": "FbVnlkof4fvu",
    "outputId": "0e574cd5-4b5b-4c45-d272-69c69ed16216"
   },
   "outputs": [
    {
     "data": {
      "image/png": "[encoded data removed]",
      "text/plain": [
       "<Figure size 640x480 with 4 Axes>"
      ]
     },
     "metadata": {},
     "output_type": "display_data"
    }
   ],
   "source": [
    "best_images = scale_image(best_images.reshape(-1, 28, 28)).to('cpu').numpy()\n",
    "fig, ((ax1, ax2), (ax3, ax4)) = plt.subplots(nrows=2, ncols=2)\n",
    "ax1.imshow(best_images[0,:,:], cmap='gray')\n",
    "ax1.set(xticks=([]), yticks=([]))\n",
    "ax2.imshow(best_images[1,:,:], cmap='gray')\n",
    "ax2.set(xticks=([]), yticks=([]))\n",
    "ax3.imshow(best_images[2,:,:], cmap='gray')\n",
    "ax3.set(xticks=([]), yticks=([]))\n",
    "ax4.imshow(best_images[3,:,:], cmap='gray')\n",
    "ax4.set(xticks=([]), yticks=([]))\n",
    "plt.suptitle('AI Generated Images')\n",
    "plt.show()"
   ]
  }
 ],
 "metadata": {
  "accelerator": "GPU",
  "colab": {
   "gpuType": "T4",
   "provenance": []
  },
  "kernelspec": {
   "display_name": "Python 3 (ipykernel)",
   "language": "python",
   "name": "python3"
  },
  "language_info": {
   "codemirror_mode": {
    "name": "ipython",
    "version": 3
   },
   "file_extension": ".py",
   "mimetype": "text/x-python",
   "name": "python",
   "nbconvert_exporter": "python",
   "pygments_lexer": "ipython3",
   "version": "3.10.10"
  }
 },
 "nbformat": 4,
 "nbformat_minor": 4
}
